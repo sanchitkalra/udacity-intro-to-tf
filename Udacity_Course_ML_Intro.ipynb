{
  "nbformat": 4,
  "nbformat_minor": 0,
  "metadata": {
    "colab": {
      "provenance": [],
      "authorship_tag": "ABX9TyMEl8vCGXaBYR+CHSkWM1Ev",
      "include_colab_link": true
    },
    "kernelspec": {
      "name": "python3",
      "display_name": "Python 3"
    },
    "language_info": {
      "name": "python"
    }
  },
  "cells": [
    {
      "cell_type": "markdown",
      "metadata": {
        "id": "view-in-github",
        "colab_type": "text"
      },
      "source": [
        "<a href=\"https://colab.research.google.com/github/sanchitkalra/udacity-intro-to-tf/blob/main/Udacity_Course_ML_Intro.ipynb\" target=\"_parent\"><img src=\"https://colab.research.google.com/assets/colab-badge.svg\" alt=\"Open In Colab\"/></a>"
      ]
    },
    {
      "cell_type": "code",
      "execution_count": 4,
      "metadata": {
        "id": "Uy5mKKGRl14u"
      },
      "outputs": [],
      "source": [
        "import tensorflow as tf\n",
        "import numpy as np\n",
        "import logging\n",
        "logger = tf.get_logger()\n",
        "logger.setLevel(logging.ERROR)"
      ]
    },
    {
      "cell_type": "code",
      "source": [
        "cel = np.array([-40, -10,  0,  8, 15, 22,  38], dtype=float)\n",
        "far = np.array([-40,  14, 32, 46, 59, 72, 100], dtype=float)\n",
        "\n",
        "for i, c in enumerate(cel):\n",
        "  print(\"{} degree C = {} degree F\".format(c, far[i]))"
      ],
      "metadata": {
        "colab": {
          "base_uri": "https://localhost:8080/"
        },
        "id": "PfpbShLomSO9",
        "outputId": "4d552a01-fa69-4fd5-8559-8d442040358b"
      },
      "execution_count": 5,
      "outputs": [
        {
          "output_type": "stream",
          "name": "stdout",
          "text": [
            "-40.0 degree C = -40.0 degree F\n",
            "-10.0 degree C = 14.0 degree F\n",
            "0.0 degree C = 32.0 degree F\n",
            "8.0 degree C = 46.0 degree F\n",
            "15.0 degree C = 59.0 degree F\n",
            "22.0 degree C = 72.0 degree F\n",
            "38.0 degree C = 100.0 degree F\n"
          ]
        }
      ]
    },
    {
      "cell_type": "code",
      "source": [
        "# this is a layer of our deep neural network\n",
        "#\n",
        "# this is the only layer in our network, and since it is supposed to have only\n",
        "# one output, the units is set to 1, and since the input is a single numerical\n",
        "# value, the input_shape is [1]\n",
        "#\n",
        "# if say, the input feature vector was multi-dim, the shape would need to be\n",
        "# adjusted acc\n",
        "#\n",
        "# since a deep neural network could also have multiple layer, the output shape,\n",
        "# and the input shape of two adjecent layers should match\n",
        "l0 = tf.keras.layers.Dense(units = 1, input_shape = [1])"
      ],
      "metadata": {
        "id": "ZwDtZRESmUj0"
      },
      "execution_count": 8,
      "outputs": []
    },
    {
      "cell_type": "code",
      "source": [
        "# now we need to assemble the model\n",
        "# assembling a model => defining the layers of the model sequentially\n",
        "# in the order they are present\n",
        "model = tf.keras.Sequential([l0])"
      ],
      "metadata": {
        "id": "uk2PAixQnZgD"
      },
      "execution_count": 10,
      "outputs": []
    },
    {
      "cell_type": "code",
      "source": [
        "# once we have assembled the model, we need to now define the loss function\n",
        "# and the optimiser\n",
        "#\n",
        "# loss func => how far is our predicted value from the true value\n",
        "# optimiser => a func that ajusts the internal values to reduce loss\n",
        "model.compile(loss=\"mean_squared_error\",\n",
        "              optimizer=tf.keras.optimizers.Adam(0.1)) # 0.1 => learning rate"
      ],
      "metadata": {
        "id": "v0AqjHYIoM91"
      },
      "execution_count": 13,
      "outputs": []
    },
    {
      "cell_type": "code",
      "source": [
        "# now once we have all the pieces we need for our model, we will train the\n",
        "# model. training => fitting the data to an equation with the given loss func\n",
        "# and the optimiser.\n",
        "#\n",
        "# during training, all neurons start with some weights and these weights are\n",
        "# used to calculate output values and loss, and using these loss values the\n",
        "# optimiser adjusts the weights of the neurons\n",
        "#\n",
        "# epochs = number of iterations this fitting should run\n",
        "history = model.fit(cel, far, epochs = 500, verbose = False)\n",
        "print(\"training over\")"
      ],
      "metadata": {
        "colab": {
          "base_uri": "https://localhost:8080/"
        },
        "id": "wko-iWSsotEy",
        "outputId": "7bfc6ff1-ddea-4a66-b2b2-ca95e03f4811"
      },
      "execution_count": 14,
      "outputs": [
        {
          "output_type": "stream",
          "name": "stdout",
          "text": [
            "training over\n"
          ]
        }
      ]
    },
    {
      "cell_type": "code",
      "source": [
        "# we shall now use matplotlib to plot a graph of how the loss is going with\n",
        "# each iteration (specified by epochs)\n",
        "\n",
        "import matplotlib.pyplot as plt\n",
        "\n",
        "plt.xlabel(\"epoch number\")\n",
        "plt.ylabel(\"loss magnitude\")\n",
        "plt.plot(history.history['loss'])"
      ],
      "metadata": {
        "colab": {
          "base_uri": "https://localhost:8080/",
          "height": 467
        },
        "id": "NIZjkPJZqLX8",
        "outputId": "17db6105-90a4-461a-d50f-68aeec417663"
      },
      "execution_count": 16,
      "outputs": [
        {
          "output_type": "execute_result",
          "data": {
            "text/plain": [
              "[<matplotlib.lines.Line2D at 0x7d6811cbd570>]"
            ]
          },
          "metadata": {},
          "execution_count": 16
        },
        {
          "output_type": "display_data",
          "data": {
            "text/plain": [
              "<Figure size 640x480 with 1 Axes>"
            ],
            "image/png": "[encoded data removed]"
          },
          "metadata": {}
        }
      ]
    },
    {
      "cell_type": "code",
      "source": [
        "# we can now also use this model to predict new values from our trained model\n",
        "\n",
        "print(model.predict([100.0]))"
      ],
      "metadata": {
        "colab": {
          "base_uri": "https://localhost:8080/"
        },
        "id": "8WwmJoAqqurE",
        "outputId": "56bd39c8-aa36-418d-9b56-a597bef05a43"
      },
      "execution_count": 17,
      "outputs": [
        {
          "output_type": "stream",
          "name": "stdout",
          "text": [
            "1/1 [==============================] - 0s 173ms/step\n",
            "[[211.33728]]\n"
          ]
        }
      ]
    },
    {
      "cell_type": "code",
      "source": [
        "# we can also see the weights for each neuron like this\n",
        "# each neuron has two weights associated with it\n",
        "# 1. the normal weight (think of it like the slope of the line or m in y=mx + c)\n",
        "# 2. the bias (this adjusts the mx value by a constant amt, kind of like the c)\n",
        "print(\"These are the layer variables: {}\".format(l0.get_weights()))"
      ],
      "metadata": {
        "colab": {
          "base_uri": "https://localhost:8080/"
        },
        "id": "wEyneY6ZrEtY",
        "outputId": "66d53399-f46f-4ce6-82d2-e7a9f2d45874"
      },
      "execution_count": 19,
      "outputs": [
        {
          "output_type": "stream",
          "name": "stdout",
          "text": [
            "These are the layer variables: [array([[1.8206127]], dtype=float32), array([29.276022], dtype=float32)]\n"
          ]
        }
      ]
    },
    {
      "cell_type": "code",
      "source": [
        "# technically there's nothing stopping us from making a much more complex\n",
        "# network with many more layers like this one\n",
        "#\n",
        "# input layer, we have defined the input shape as a single numerical val and\n",
        "# there are 4 neurons in this layer\n",
        "l0 = tf.keras.layers.Dense(units=4, input_shape=[1])\n",
        "#\n",
        "# another layer with 4 neurons\n",
        "l1 = tf.keras.layers.Dense(units=4)\n",
        "#\n",
        "# the following is also fine, because the input shape is being set to 4, which\n",
        "# is the output shape of the last layer\n",
        "# l1 = tf.keras.layers.Dense(units=4, input_shape=[4])\n",
        "#\n",
        "# last layer, the output layer with just one neuron\n",
        "# technically we could define the input shape of this layer too, but it really\n",
        "# isn't needed\n",
        "l2 = tf.keras.layers.Dense(units=1)\n",
        "model = tf.keras.Sequential([l0, l1, l2])\n",
        "model.compile(loss='mean_squared_error', optimizer=tf.keras.optimizers.Adam(0.1))\n",
        "model.fit(cel, far , epochs=500, verbose=False)\n",
        "print(\"Finished training the model\")\n",
        "op1_shape = l0.output_shape\n",
        "print(\"output shape of 1st (input layer) => \", op1_shape)\n",
        "op2_shape = l1.output_shape\n",
        "print(\"output shape of 2nd (hidden layer) => \", op2_shape)\n",
        "op3_shape = l2.output_shape\n",
        "print(\"output shape of 3rd (output layer) => \", op3_shape)\n",
        "print(model.predict([100.0]))\n",
        "print(\"Model predicts that 100 degrees Celsius is: {} degrees Fahrenheit\".format(model.predict([100.0])))\n",
        "print(\"These are the l0 variables: {}\".format(l0.get_weights()))\n",
        "print(\"These are the l1 variables: {}\".format(l1.get_weights()))\n",
        "print(\"These are the l2 variables: {}\".format(l2.get_weights()))"
      ],
      "metadata": {
        "colab": {
          "base_uri": "https://localhost:8080/"
        },
        "id": "_LsebEHlr2P5",
        "outputId": "3a31535c-ef7d-46b1-e011-9144e59d0f7e"
      },
      "execution_count": 30,
      "outputs": [
        {
          "output_type": "stream",
          "name": "stdout",
          "text": [
            "Finished training the model\n",
            "output shape of 1st (input layer) =>  (None, 4)\n",
            "output shape of 2nd (hidden layer) =>  (None, 4)\n",
            "output shape of 3rd (output layer) =>  (None, 1)\n",
            "1/1 [==============================] - 0s 70ms/step\n",
            "[[211.74744]]\n",
            "1/1 [==============================] - 0s 37ms/step\n",
            "Model predicts that 100 degrees Celsius is: [[211.74744]] degrees Fahrenheit\n",
            "These are the l0 variables: [array([[-0.12279951, -0.71298814,  0.07451283, -0.20065549]],\n",
            "      dtype=float32), array([ 2.3681884, -3.1513264,  2.5663774, -2.3663888], dtype=float32)]\n",
            "These are the l1 variables: [array([[ 0.8110434 , -1.1034819 , -0.46280494,  0.05344966],\n",
            "       [ 0.05866814,  0.57438356,  0.8839144 , -0.5212359 ],\n",
            "       [ 0.674126  ,  0.05298181, -0.56780887,  0.9243766 ],\n",
            "       [ 0.8438572 ,  0.36958393,  0.5409485 , -0.4296451 ]],\n",
            "      dtype=float32), array([-0.23412481, -3.0060267 , -3.0289989 ,  2.8761995 ], dtype=float32)]\n",
            "These are the l2 variables: [array([[ 0.094965 ],\n",
            "       [-1.0093066],\n",
            "       [-1.4055324],\n",
            "       [ 0.8791674]], dtype=float32), array([2.9674063], dtype=float32)]\n"
          ]
        }
      ]
    }
  ]
}